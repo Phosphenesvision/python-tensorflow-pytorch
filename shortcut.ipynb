{
 "cells": [
  {
   "cell_type": "markdown",
   "metadata": {},
   "source": [
    "判断一个字符是不是在一个字符串中"
   ]
  },
  {
   "cell_type": "code",
   "execution_count": 1,
   "metadata": {},
   "outputs": [
    {
     "name": "stdout",
     "output_type": "stream",
     "text": [
      "1 in choice\n"
     ]
    }
   ],
   "source": [
    "choice = \"125\"\n",
    "if \"0\" in choice:\n",
    "    print(\"0 in choice\")\n",
    "elif \"1\" in choice:\n",
    "    print(\"1 in choice\")\n",
    "else:\n",
    "    print(\"neither 0 nor 1 in choice\")"
   ]
  },
  {
   "cell_type": "markdown",
   "metadata": {},
   "source": [
    "对一个列表中每一个元素进行相同操作"
   ]
  },
  {
   "cell_type": "code",
   "execution_count": 5,
   "metadata": {},
   "outputs": [
    {
     "name": "stdout",
     "output_type": "stream",
     "text": [
      "[1, 2, 3, 4, 5, 6]\n",
      "[0, 1, 2, 3, 4, 5]\n"
     ]
    }
   ],
   "source": [
    "alist = [1, 2, 3, 4, 5, 6]\n",
    "print(alist)\n",
    "alist = [i-1 for i in alist]\n",
    "print(alist)"
   ]
  },
  {
   "cell_type": "markdown",
   "metadata": {},
   "source": [
    "exit的作用"
   ]
  },
  {
   "cell_type": "code",
   "execution_count": 6,
   "metadata": {},
   "outputs": [],
   "source": [
    "#from sys import exit\n",
    "#在很多类型的操作系统中，exit(0)可以中止某个程序，其中的数字0表示程序是正常退出的，\n",
    "#如果改成exit(1)则表示程序是发生错误退出\n",
    "#可以用不同的数字表示不同的错误，比如exit(2)和exit(100)"
   ]
  },
  {
   "cell_type": "markdown",
   "metadata": {},
   "source": [
    "在字符串之间添上某个特定的字符用到join函数"
   ]
  },
  {
   "cell_type": "code",
   "execution_count": 12,
   "metadata": {},
   "outputs": [
    {
     "name": "stdout",
     "output_type": "stream",
     "text": [
      "['boy', 'girl', 'corn', 'sugar', 'light', 'apple']\n",
      "boy=girl=corn=sugar=light=apple <class 'str'>\n"
     ]
    }
   ],
   "source": [
    "ch = \"=\"\n",
    "seq = [\"boy\", \"girl\", \"corn\", \"sugar\", \"light\", \"apple\"]\n",
    "print(seq)\n",
    "print(ch.join(seq), type(ch.join(seq)))\n",
    "#print(join(ch, seq))#错误用法"
   ]
  },
  {
   "cell_type": "markdown",
   "metadata": {},
   "source": [
    "strip函数：该函数的作用是去除字符串开头和结尾处指定的字符，不会去除字符串中间对应的字符；  \n",
    "调用该函数时，可设置传入参数或者不设置参数  \n",
    "若不传入字符，则默认去除字符串开头和结尾的空格或换行字符；  \n",
    "若传入字符，则会依据传入的字符来进行去除操作；"
   ]
  },
  {
   "cell_type": "code",
   "execution_count": 5,
   "metadata": {},
   "outputs": [
    {
     "name": "stdout",
     "output_type": "stream",
     "text": [
      "['abc\\n', 'def\\n', 'igk']\n",
      "['abc', 'def', 'igk']\n"
     ]
    }
   ],
   "source": [
    "line = [\"abc\\n\", \"def\\n\", 'igk']\n",
    "print(line)\n",
    "line = [c.strip() for c in line]\n",
    "print(line)\n",
    "\n"
   ]
  },
  {
   "cell_type": "code",
   "execution_count": null,
   "metadata": {},
   "outputs": [],
   "source": []
  }
 ],
 "metadata": {
  "kernelspec": {
   "display_name": "Python 3",
   "language": "python",
   "name": "python3"
  },
  "language_info": {
   "codemirror_mode": {
    "name": "ipython",
    "version": 3
   },
   "file_extension": ".py",
   "mimetype": "text/x-python",
   "name": "python",
   "nbconvert_exporter": "python",
   "pygments_lexer": "ipython3",
   "version": "3.5.2"
  }
 },
 "nbformat": 4,
 "nbformat_minor": 2
}
