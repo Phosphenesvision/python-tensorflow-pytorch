{
 "cells": [
  {
   "cell_type": "markdown",
   "metadata": {},
   "source": [
    "# Exercise 28  \n",
    "主要讲解一些bool值的判断  \n",
    "0代表False  1代表True"
   ]
  },
  {
   "cell_type": "code",
   "execution_count": 28,
   "metadata": {},
   "outputs": [
    {
     "name": "stdout",
     "output_type": "stream",
     "text": [
      "False\n",
      "False\n",
      "False\n",
      "False\n",
      "0\n",
      "0\n"
     ]
    }
   ],
   "source": [
    "print(True and False)\n",
    "print(False and True)\n",
    "print(False and 1)\n",
    "print(1 and False)\n",
    "print(0 and True)\n",
    "print(True and 0)\n",
    "print()"
   ]
  },
  {
   "cell_type": "markdown",
   "metadata": {},
   "source": [
    "# Exercise 31  \n",
    "讲解 if-elif-else 结构"
   ]
  },
  {
   "cell_type": "code",
   "execution_count": 5,
   "metadata": {},
   "outputs": [
    {
     "name": "stdout",
     "output_type": "stream",
     "text": [
      "you are right\n"
     ]
    }
   ],
   "source": [
    "sb = 1\n",
    "if sb == 1:\n",
    "    print(\"you are right\")\n",
    "elif sb == 2:\n",
    "    print(\"you are wrong\")\n",
    "else:\n",
    "    print(\"I don't know what you mean\")"
   ]
  },
  {
   "cell_type": "markdown",
   "metadata": {},
   "source": [
    "## Exercise 32  \n",
    "看起来是在讲解列表list结构  \n",
    "实际上穿插讲了for语句的结构  \n",
    "这两者应该是相辅相成的学习的  \n",
    "## Exercise 34  \n",
    "新的知识很少，只介绍了列表元素的提取  \n",
    "## Exercise 38  \n",
    "介绍了列表的更多操作  \n",
    "索引为-1的操作  \n",
    "pop函数的操作，是遵循先进后出的原则  \n",
    "列表的切片操作"
   ]
  },
  {
   "cell_type": "code",
   "execution_count": 2,
   "metadata": {
    "scrolled": true
   },
   "outputs": [
    {
     "name": "stdout",
     "output_type": "stream",
     "text": [
      "1\n",
      "pennies\n",
      "2\n",
      "dimes\n",
      "3\n",
      "quarters\n",
      "[0, 1, 2, 3, 4, 5]\n",
      "第三种方式\n",
      "0 0\n",
      "1 1\n",
      "2 2\n",
      "3 3\n",
      "4 4\n",
      "5 5\n",
      "枚举完毕\n",
      "1 0\n",
      "quarters 4\n",
      "['pennies', 2]\n",
      "quarters\n"
     ]
    }
   ],
   "source": [
    "#列表的定义\n",
    "alist = [1, 'pennies', 2, 'dimes', 3, 'quarters'] #定义一个列表\n",
    "blist = [] #定义一个空列表\n",
    "\n",
    "#for语句的两种使用方式\n",
    "#第一种使用方式：与列表结合的使用方式\n",
    "for i in alist:\n",
    "    #print(f\"I got {i}\") #这种print方式只是在python3.6以后才能用\n",
    "    print(i)\n",
    "#第二种使用方式：用到了range函数\n",
    "for j in range(0,6):\n",
    "    blist.append(j)#这是列表添加元素的方式\n",
    "print(blist)\n",
    "#第三种使用方式：用到了枚举函数，相当于对列表中的每一元素编号\n",
    "print(\"第三种方式\")\n",
    "for k,ele in enumerate(blist):\n",
    "    print(k,ele)\n",
    "print(\"枚举完毕\")\n",
    "\n",
    "#列表中单个元素的操作\n",
    "print(alist[0], blist[0])\n",
    "\n",
    "print(alist[-1], blist[-2])#注意元素为-1和-2\n",
    "print(alist[1:3])\n",
    "print(alist.pop())"
   ]
  },
  {
   "cell_type": "markdown",
   "metadata": {},
   "source": [
    "在上面的例子中，可以看出，for循环是可以使用未定义的变量的，例如i和j"
   ]
  },
  {
   "cell_type": "markdown",
   "metadata": {},
   "source": [
    "## Exercise 33  \n",
    "主要讲解while循环\n",
    "大部分情况下，由于while循环的限制较小，风险更大，不鼓励使用while循环语句，可以用for语句代替  \n"
   ]
  },
  {
   "cell_type": "code",
   "execution_count": 22,
   "metadata": {},
   "outputs": [
    {
     "name": "stdout",
     "output_type": "stream",
     "text": [
      "[0, 1, 2, 3, 4, 5]\n"
     ]
    }
   ],
   "source": [
    "clist = []\n",
    "i = 0\n",
    "while i < 6 :\n",
    "    clist.append(i)\n",
    "    i+=1\n",
    "print(clist)"
   ]
  },
  {
   "cell_type": "markdown",
   "metadata": {},
   "source": [
    "## Exercise 39  \n",
    "主要讲解字典结构  \n",
    "字典相对于列表的好处是，可以自定义索引  \n",
    "  \n",
    "这里还是有一点问题：python3的字典是不是无序的  \n",
    "默认数字索引在前，字符串索引在后吗  \n",
    "应该是按照索引来排序的"
   ]
  },
  {
   "cell_type": "code",
   "execution_count": 3,
   "metadata": {},
   "outputs": [
    {
     "name": "stdout",
     "output_type": "stream",
     "text": [
      "{'name': 'Zed', 'age': 39, 'height': 74, 1: 'wow'}\n",
      "{1: 'wow', 2: 'neato', 'name': 'Zed', 'age': 39, 'height': 74, '2': 'oregon'}\n",
      "{2: 'neato', 'age': 39, 'height': 74, '2': 'oregon'}\n",
      "dict_items([(2, 'neato'), ('age', 39), ('height', 74), ('2', 'oregon')]) <class 'dict_items'>\n",
      "2 neato\n",
      "age 39\n",
      "height 74\n",
      "2 oregon\n",
      "2\n",
      "age\n",
      "height\n",
      "2\n",
      "neato\n",
      "39\n",
      "74\n",
      "oregon\n"
     ]
    }
   ],
   "source": [
    "stuff = {'name': 'Zed', 'age': 39, 'height': 74, 1: \"wow\" }#定义一个字典\n",
    "print(stuff)\n",
    "\n",
    "#为字典添加内容\n",
    "stuff[2] = \"neato\"\n",
    "stuff['2'] = \"oregon\"\n",
    "print(stuff)\n",
    "\n",
    "#删除字典内容\n",
    "del stuff['name']\n",
    "del stuff[1]\n",
    "print(stuff)\n",
    "\n",
    "#将字典转换成列表\n",
    "print(stuff.items(), type(stuff.items()))\n",
    "for key,values in  stuff.items():\n",
    "    print(key,values)\n",
    "\n",
    "#只提取索引\n",
    "for ankey in stuff.keys():\n",
    "    print(ankey)\n",
    "    \n",
    "#只提取元素\n",
    "for anvalue in stuff.values():\n",
    "    print(anvalue)"
   ]
  },
  {
   "cell_type": "markdown",
   "metadata": {},
   "source": [
    "## Exercise 40-43  \n",
    "讲了半天，都是面向对象编程语言的一些知识，关于面向对象编程，这不是我第一次接触，我已经接触过很多次了，不过每次都很费劲的去阅读理解相关术语介绍，事后没多久又忘了，我晕，这次也不例外，看半天云里雾里，一点也不懂  \n",
    "不过这次就去了解两个问题  \n",
    "第一个问题，什么是面向对象编程语言？就是类的大规模使用\n",
    "第二个问题，类-对象-实例，这三个概念都怎么理解，怎么区分？都一样的东西，不用区分  \n",
    "  \n",
    "主要就介绍一下类的使用吧"
   ]
  },
  {
   "cell_type": "code",
   "execution_count": 5,
   "metadata": {},
   "outputs": [
    {
     "name": "stdout",
     "output_type": "stream",
     "text": [
      "the province is Chihli, and the capital city is Peking\n",
      "the major city in the province is Tientsin\n",
      "the province is Chihli, and the capital city is Peking\n",
      "the major city in the province is Tientsin\n"
     ]
    }
   ],
   "source": [
    "#首先是类的定义,这是一种标准的类的定义方式，括号里的object不一定要有了\n",
    "class aProvince(object):\n",
    "    def __init__(self, name, capital):\n",
    "        self.name = name\n",
    "        self.capital = capital\n",
    "    \n",
    "    def introduction(self):\n",
    "        print(\"the province is %s, and the capital city is %s\" %(self.name, self.capital))\n",
    "    \n",
    "    def majorcity(self, mcity):\n",
    "        print(\"the major city in the province is %s\" %(mcity))\n",
    "        \n",
    "ap = aProvince(\"Chihli\", \"Peking\")\n",
    "ap.introduction()\n",
    "ap.majorcity(\"Tientsin\")\n",
    "\n",
    "#如果没有初始化语句的后果，可行，系统自动进行了初始化操作\n",
    "class Chihli(object):\n",
    "#    def __init__(self):\n",
    "#        self.name = \"Chihli\"\n",
    "#        self.capital = \"Peking\"\n",
    "    \n",
    "    def introduction(self):\n",
    "        print(\"the province is Chihli, and the capital city is Peking\" )\n",
    "    \n",
    "    def majorcity(self, mcity):\n",
    "        print(\"the major city in the province is %s\" %(mcity))\n",
    "bp = Chihli()\n",
    "bp.introduction()\n",
    "bp.majorcity(\"Tientsin\")\n",
    "\n",
    "\n",
    "#类之间的包含关系\n",
    "#这时候从新定义一下"
   ]
  },
  {
   "cell_type": "markdown",
   "metadata": {},
   "source": [
    "## Exercise 44  \n",
    "继承与组合，尽量的不要去使用继承  \n",
    "继承分为隐式继承/显式覆盖/自定义继承  \n",
    "当然还可以三种混合使用"
   ]
  },
  {
   "cell_type": "code",
   "execution_count": 22,
   "metadata": {},
   "outputs": [
    {
     "name": "stdout",
     "output_type": "stream",
     "text": [
      "隐式继承\n",
      "the last name of my is family wang\n",
      "the last name of my is family wang\n",
      "显式覆盖\n",
      "my name is erniu\n",
      "有了super函数，想用哪个用哪个\n",
      "my name is sanniu\n",
      "the last name of my is family wang\n",
      "super函数初始化\n",
      "my name is wang siniu\n"
     ]
    }
   ],
   "source": [
    "#隐式继承\n",
    "print(\"隐式继承\")\n",
    "class Parent():\n",
    "    \n",
    "    def __init__(self):\n",
    "        self.lname = \"wang\"\n",
    "    \n",
    "    def introduction(self):\n",
    "        print(\"the last name of my is family %s\" %(self.lname))\n",
    "\n",
    "\n",
    "class aChild(Parent):\n",
    "    \n",
    "    pass\n",
    "\n",
    "adad = Parent()\n",
    "ason = aChild()\n",
    "\n",
    "adad.introduction()\n",
    "ason.introduction()\n",
    "#显式覆盖\n",
    "print(\"显式覆盖\")\n",
    "class bChild(Parent):\n",
    "    \n",
    "    def introduction(self):\n",
    "        print(\"my name is erniu\")\n",
    "        \n",
    "bson = bChild()\n",
    "bson.introduction()\n",
    "#在运行前或运行后替换\n",
    "print(\"有了super函数，想用哪个用哪个\")\n",
    "class cChild(Parent):\n",
    "    \n",
    "    def introduction(self):\n",
    "        print(\"my name is sanniu\")\n",
    "        super(cChild, self).introduction()\n",
    "        \n",
    "cson = cChild()\n",
    "cson.introduction()\n",
    "#第二种super函数的用法\n",
    "print(\"super函数初始化\")\n",
    "class dChild(Parent):\n",
    "    \n",
    "    def __init__(self, fname):\n",
    "        self.fname = fname\n",
    "        super(dChild, self).__init__()\n",
    "        \n",
    "    def introduction(self):\n",
    "        print(\"my name is %s %s\" %(self.lname, self.fname))\n",
    "\n",
    "dson = dChild(\"siniu\")\n",
    "dson.introduction()"
   ]
  },
  {
   "cell_type": "markdown",
   "metadata": {},
   "source": [
    "## Exercise 44  \n",
    "组合的介绍，就是把两个类合在一起"
   ]
  },
  {
   "cell_type": "code",
   "execution_count": 26,
   "metadata": {},
   "outputs": [
    {
     "name": "stdout",
     "output_type": "stream",
     "text": [
      "my name is andy\n",
      "my wife's name is mary\n"
     ]
    }
   ],
   "source": [
    "class Wife():\n",
    "    \n",
    "    def __init__(self, name):\n",
    "        self.name = name\n",
    "        \n",
    "    def introduction(self):\n",
    "        print(\"my wife's name is %s\"%(self.name))\n",
    "        \n",
    "        \n",
    "class Husband():\n",
    "    \n",
    "    def __init__(self, name):\n",
    "        self.name = name\n",
    "        self.wife = Wife(\"mary\")\n",
    "    \n",
    "    def introduction(self):\n",
    "        print(\"my name is %s\" %(self.name))\n",
    "        self.wife.introduction()\n",
    "        \n",
    "person = Husband(\"andy\")\n",
    "person.introduction()"
   ]
  },
  {
   "cell_type": "markdown",
   "metadata": {},
   "source": [
    "关于类内的函数名字定义的一个问题：  \n",
    "如果是以单下划线开头：为保护类型的属性和方法，仅允许类内部和子类访问，类实例无法访问此属性和方法。  \n",
    "如果是以双下划线开头：为私有类型属性和方法，仅允许类内部访问，类实例和派生类均不能访问此属性和方法。"
   ]
  },
  {
   "cell_type": "code",
   "execution_count": null,
   "metadata": {},
   "outputs": [],
   "source": []
  }
 ],
 "metadata": {
  "kernelspec": {
   "display_name": "Python 3",
   "language": "python",
   "name": "python3"
  },
  "language_info": {
   "codemirror_mode": {
    "name": "ipython",
    "version": 3
   },
   "file_extension": ".py",
   "mimetype": "text/x-python",
   "name": "python",
   "nbconvert_exporter": "python",
   "pygments_lexer": "ipython3",
   "version": "3.5.2"
  }
 },
 "nbformat": 4,
 "nbformat_minor": 2
}
